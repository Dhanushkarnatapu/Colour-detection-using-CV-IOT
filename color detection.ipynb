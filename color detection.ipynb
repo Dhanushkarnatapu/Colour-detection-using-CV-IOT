{
 "cells": [
  {
   "cell_type": "markdown",
   "metadata": {},
   "source": [
    "# color detection using OpenCV"
   ]
  },
  {
   "cell_type": "code",
   "execution_count": 15,
   "metadata": {},
   "outputs": [
    {
     "ename": "KeyboardInterrupt",
     "evalue": "",
     "output_type": "error",
     "traceback": [
      "\u001b[1;31m---------------------------------------------------------------------------\u001b[0m",
      "\u001b[1;31mKeyboardInterrupt\u001b[0m                         Traceback (most recent call last)",
      "\u001b[1;32m<ipython-input-15-bec9847049bd>\u001b[0m in \u001b[0;36m<module>\u001b[1;34m\u001b[0m\n\u001b[0;32m     59\u001b[0m         \u001b[0mclicked\u001b[0m\u001b[1;33m=\u001b[0m\u001b[1;32mFalse\u001b[0m\u001b[1;33m\u001b[0m\u001b[1;33m\u001b[0m\u001b[0m\n\u001b[0;32m     60\u001b[0m \u001b[1;33m\u001b[0m\u001b[0m\n\u001b[1;32m---> 61\u001b[1;33m     \u001b[1;32mif\u001b[0m \u001b[0mcv2\u001b[0m\u001b[1;33m.\u001b[0m\u001b[0mwaitKey\u001b[0m\u001b[1;33m(\u001b[0m\u001b[1;36m20\u001b[0m\u001b[1;33m)\u001b[0m \u001b[1;33m&\u001b[0m \u001b[1;36m0xFF\u001b[0m \u001b[1;33m==\u001b[0m\u001b[1;36m27\u001b[0m\u001b[1;33m:\u001b[0m\u001b[1;33m\u001b[0m\u001b[1;33m\u001b[0m\u001b[0m\n\u001b[0m\u001b[0;32m     62\u001b[0m         \u001b[1;32mbreak\u001b[0m\u001b[1;33m\u001b[0m\u001b[1;33m\u001b[0m\u001b[0m\n\u001b[0;32m     63\u001b[0m \u001b[1;33m\u001b[0m\u001b[0m\n",
      "\u001b[1;31mKeyboardInterrupt\u001b[0m: "
     ]
    }
   ],
   "source": [
    "#programming_fever\r\n",
    "import cv2\r\n",
    "import numpy as np\r\n",
    "import pandas as pd\r\n",
    "\r\n",
    "img_path = \"C:\\\\Users\\\\Home\\\\Desktop\\\\pic.JPEG\"\r\n",
    "img = cv2.imread(img_path)\r\n",
    "img=cv2.resize(img,(700,500))\r\n",
    "\r\n",
    "clicked = False\r\n",
    "r = g = b = xpos = ypos = 0\r\n",
    "\r\n",
    "#Reading csv file with pandas and giving names to each column\r\n",
    "index=[\"color\",\"color_name\",\"hex\",\"R\",\"G\",\"B\"]\r\n",
    "csv = pd.read_csv('colors.csv', names=index, header=None)\r\n",
    "\r\n",
    "#function to calculate minimum distance from all colors and get the most matching color\r\n",
    "def getColorName(R,G,B):\r\n",
    "    minimum = 10000\r\n",
    "    for i in range(len(csv)):\r\n",
    "        d = abs(R- int(csv.loc[i,\"R\"])) + abs(G- int(csv.loc[i,\"G\"]))+ abs(B- int(csv.loc[i,\"B\"]))\r\n",
    "        if(d<=minimum):\r\n",
    "            minimum = d\r\n",
    "            cname = csv.loc[i,\"color_name\"]\r\n",
    "    return cname\r\n",
    "\r\n",
    "#function to get x,y coordinates of mouse double click\r\n",
    "def draw_function(event, x,y,flags,param):\r\n",
    "    if event == cv2.EVENT_LBUTTONDBLCLK:\r\n",
    "        global b,g,r,xpos,ypos, clicked\r\n",
    "        clicked = True\r\n",
    "        xpos = x\r\n",
    "        ypos = y\r\n",
    "        b,g,r = img[y,x]\r\n",
    "        b = int(b)\r\n",
    "        g = int(g)\r\n",
    "        r = int(r)\r\n",
    "cv2.namedWindow('color detection by programming_fever')\r\n",
    "cv2.setMouseCallback('color detection by programming_fever',draw_function)\r\n",
    "\r\n",
    "while(1):\r\n",
    "\r\n",
    "    cv2.imshow(\"color detection by programming_fever\",img)\r\n",
    "    if (clicked):\r\n",
    "   \r\n",
    "        #cv2.rectangle(image, startpoint, endpoint, color, thickness)-1 fills entire rectangle \r\n",
    "        cv2.rectangle(img,(20,20), (750,60), (b,g,r), -1)\r\n",
    "\r\n",
    "        #Creating text string to display( Color name and RGB values )\r\n",
    "        text = getColorName(r,g,b) + ' R='+ str(r) +  ' G='+ str(g) +  ' B='+ str(b)\r\n",
    "        \r\n",
    "        #cv2.putText(img,text,start,font(0-7),fontScale,color,thickness,lineType )\r\n",
    "        cv2.putText(img, text,(50,50),2,0.8,(255,255,255),2,cv2.LINE_AA)\r\n",
    "\r\n",
    "        #For very light colours we will display text in black colour\r\n",
    "        if(r+g+b>=600):\r\n",
    "            cv2.putText(img, text,(50,50),2,0.8,(0,0,0),2,cv2.LINE_AA)\r\n",
    "            \r\n",
    "        clicked=False\r\n",
    "\r\n",
    "    if cv2.waitKey(20) & 0xFF ==27:\r\n",
    "        break\r\n",
    "    \r\n",
    "cv2.destroyAllWindows()"
   ]
  },
  {
   "cell_type": "code",
   "execution_count": null,
   "metadata": {},
   "outputs": [],
   "source": []
  },
  {
   "cell_type": "code",
   "execution_count": null,
   "metadata": {},
   "outputs": [],
   "source": []
  }
 ],
 "metadata": {
  "interpreter": {
   "hash": "705a0fface73d7bf5dcb9415cd126aacd2ed3bc07552ba5f1989523a8d8937c8"
  },
  "kernelspec": {
   "display_name": "Python 3.9.5 64-bit",
   "name": "python3"
  },
  "language_info": {
   "name": "python",
   "version": ""
  }
 },
 "nbformat": 4,
 "nbformat_minor": 4
}